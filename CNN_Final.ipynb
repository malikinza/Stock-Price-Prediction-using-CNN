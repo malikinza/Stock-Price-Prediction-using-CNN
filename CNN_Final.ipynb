{
  "nbformat": 4,
  "nbformat_minor": 0,
  "metadata": {
    "accelerator": "GPU",
    "colab": {
      "provenance": [],
      "machine_shape": "hm"
    },
    "kernelspec": {
      "display_name": "Python 3",
      "name": "python3"
    }
  },
  "cells": [
    {
      "cell_type": "code",
      "metadata": {
        "id": "dtcBQvaUCfTl"
      },
      "source": [
        "6q1from google.colab import drive"
      ],
      "execution_count": null,
      "outputs": []
    },
    {
      "cell_type": "code",
      "metadata": {
        "colab": {
          "base_uri": "https://localhost:8080/"
        },
        "id": "8Lf6uO-ZDnbs",
        "outputId": "53e8c60f-fba5-48bb-a07c-7258ea95a14c"
      },
      "source": [
        "drive.mount('/content/drive', force_remount = True)\n"
      ],
      "execution_count": null,
      "outputs": [
        {
          "output_type": "stream",
          "text": [
            "Mounted at /content/drive\n"
          ],
          "name": "stdout"
        }
      ]
    },
    {
      "cell_type": "markdown",
      "metadata": {
        "id": "LLUvQKcXJYx8"
      },
      "source": [
        "## **Importing required Libraries**"
      ]
    },
    {
      "cell_type": "code",
      "metadata": {
        "id": "J8YlxEh4Dt9O"
      },
      "source": [
        "# importing the libraries\n",
        "\n",
        "import pandas as pd\n",
        "import numpy as np\n",
        "import shutil,os\n"
      ],
      "execution_count": null,
      "outputs": []
    },
    {
      "cell_type": "code",
      "metadata": {
        "id": "GL3QwJ9qDmP5"
      },
      "source": [
        "# for reading and displaying images\n",
        "\n",
        "from skimage.io import imread\n",
        "import matplotlib.pyplot as plt\n",
        "%matplotlib inline\n",
        "\n",
        "# for evaluating the model\n",
        "from sklearn.metrics import accuracy_score\n",
        "from tqdm import tqdm\n",
        "\n",
        "# PyTorch libraries and modules\n",
        "import torch\n",
        "from torch.autograd import Variable\n",
        "from torch.nn import Linear, ReLU, CrossEntropyLoss, Sequential, Conv2d, MaxPool2d, Module, Softmax, BatchNorm2d, Dropout, LeakyReLU, Tanh, AvgPool2d\n",
        "from torch.optim import Adam, SGD\n"
      ],
      "execution_count": null,
      "outputs": []
    },
    {
      "cell_type": "markdown",
      "metadata": {
        "id": "klasb0rIJlNv"
      },
      "source": [
        "## **Data Engineering**"
      ]
    },
    {
      "cell_type": "code",
      "metadata": {
        "id": "83jABRN1NvQ9"
      },
      "source": [
        "# options: original, 10days, 50days, more_stocks, shorter_intervals\n",
        "folder = \"more_stocks\""
      ],
      "execution_count": null,
      "outputs": []
    },
    {
      "cell_type": "code",
      "metadata": {
        "colab": {
          "base_uri": "https://localhost:8080/",
          "height": 227
        },
        "id": "Bk3dhD4V_Kiv",
        "outputId": "a7d89e68-9b5a-4d7d-b82f-16d96b980fa2"
      },
      "source": [
        "# loading dataset (80:20)\n",
        "train = pd.read_csv(\"/content/drive/MyDrive/TrainSet.csv\", index_col='id') #Change this to your directory\n",
        "val= pd.read_csv('/content/drive/MyDrive/validationSet.csv'.format(folder),index_col='id')\n",
        "train.head()"
      ],
      "execution_count": null,
      "outputs": [
        {
          "output_type": "execute_result",
          "data": {
            "text/html": [
              "<div>\n",
              "<style scoped>\n",
              "    .dataframe tbody tr th:only-of-type {\n",
              "        vertical-align: middle;\n",
              "    }\n",
              "\n",
              "    .dataframe tbody tr th {\n",
              "        vertical-align: top;\n",
              "    }\n",
              "\n",
              "    .dataframe thead th {\n",
              "        text-align: right;\n",
              "    }\n",
              "</style>\n",
              "<table border=\"1\" class=\"dataframe\">\n",
              "  <thead>\n",
              "    <tr style=\"text-align: right;\">\n",
              "      <th></th>\n",
              "      <th>target</th>\n",
              "    </tr>\n",
              "    <tr>\n",
              "      <th>id</th>\n",
              "      <th></th>\n",
              "    </tr>\n",
              "  </thead>\n",
              "  <tbody>\n",
              "    <tr>\n",
              "      <th>a213a040-4c6d-4df8-a934-5e4bda91c721.png</th>\n",
              "      <td>0</td>\n",
              "    </tr>\n",
              "    <tr>\n",
              "      <th>23262e19-a1f1-44ed-b482-39803600fde5.png</th>\n",
              "      <td>1</td>\n",
              "    </tr>\n",
              "    <tr>\n",
              "      <th>c9ce9cff-f96e-40f9-b457-2e85cc7a0efa.png</th>\n",
              "      <td>0</td>\n",
              "    </tr>\n",
              "    <tr>\n",
              "      <th>8b39198f-31a6-4555-b6ee-db8cba2627da.png</th>\n",
              "      <td>0</td>\n",
              "    </tr>\n",
              "    <tr>\n",
              "      <th>ab6dd1df-cd7d-4b33-b3f7-ee7da301dbb8.png</th>\n",
              "      <td>1</td>\n",
              "    </tr>\n",
              "  </tbody>\n",
              "</table>\n",
              "</div>"
            ],
            "text/plain": [
              "                                          target\n",
              "id                                              \n",
              "a213a040-4c6d-4df8-a934-5e4bda91c721.png       0\n",
              "23262e19-a1f1-44ed-b482-39803600fde5.png       1\n",
              "c9ce9cff-f96e-40f9-b457-2e85cc7a0efa.png       0\n",
              "8b39198f-31a6-4555-b6ee-db8cba2627da.png       0\n",
              "ab6dd1df-cd7d-4b33-b3f7-ee7da301dbb8.png       1"
            ]
          },
          "metadata": {
            "tags": []
          },
          "execution_count": 76
        }
      ]
    },
    {
      "cell_type": "code",
      "metadata": {
        "id": "_rQIlD3njSxm"
      },
      "source": [
        "#Reshaping train images into 64x64 and creating the train_target\n",
        "import PIL\n",
        "from PIL import Image\n",
        "train_target=[]\n",
        "\n",
        "# options: whole, upper, lower, enlarge, reduce\n",
        "use_image = \"whole\"\n",
        "train_img_directory='/content/drive/MyDrive/Train_images/'\n",
        "train_new_img_dir='/content/drive/MyDrive/Train_new_images/'\n",
        "\n",
        "for subdir,dirs,files in os.walk(train_new_img_dir):\n",
        "  dirs[:] = [folder]\n",
        "  for file in files:\n",
        "    os.remove(os.path.join(subdir, file))\n",
        "      \n",
        "for subdir,dirs,files in os.walk(train_img_directory):\n",
        "    dirs[:] = [folder]\n",
        "    for file in files:\n",
        "      im= Image.open(subdir+file)\n",
        "      if use_image == \"enlarge\":\n",
        "        im=im.resize((128,128),PIL.Image.ANTIALIAS)\n",
        "      elif use_image == \"reduce\":\n",
        "        im=im.resize((32,32),PIL.Image.ANTIALIAS)\n",
        "      else:\n",
        "        im=im.resize((64,64),PIL.Image.ANTIALIAS)\n",
        "      im.save(train_new_img_dir+file)\n",
        "\n",
        "for subdir,dirs,files in os.walk(train_new_img_dir):\n",
        "    for file in files:\n",
        "      # print(file)\n",
        "      train_target.append(train.loc[file])"
      ],
      "execution_count": null,
      "outputs": []
    },
    {
      "cell_type": "code",
      "metadata": {
        "id": "oBAPIijIvdh_"
      },
      "source": [
        "#Reshaping validation images into 64x64 and creating the validation_target\n",
        "val_target=[]\n",
        "val_img_directory='/content/drive/MyDrive/Val_images/'\n",
        "val_new_img_dir='/content/drive/MyDrive/Val_new_images/'\n",
        "\n",
        "for subdir,dirs,files in os.walk(val_new_img_dir):\n",
        "  dirs[:] = [folder]\n",
        "  for file in files:\n",
        "    os.remove(os.path.join(subdir, file))\n",
        "\n",
        "for subdir,dirs,files in os.walk(val_img_directory):\n",
        "    dirs[:] = [folder]\n",
        "    for file in files:\n",
        "      im= Image.open(subdir+file)\n",
        "      if use_image == \"enlarge\":\n",
        "        im=im.resize((128,128),PIL.Image.ANTIALIAS)\n",
        "      elif use_image == \"reduce\":\n",
        "        im=im.resize((32,32),PIL.Image.ANTIALIAS)\n",
        "      else:\n",
        "        im=im.resize((64,64),PIL.Image.ANTIALIAS)\n",
        "      im.save(val_new_img_dir+file)\n",
        "\n",
        "for subdir,dirs,files in os.walk(val_new_img_dir):\n",
        "    for file in files:\n",
        "      # print(file)\n",
        "     val_target.append(val.loc[file])\n"
      ],
      "execution_count": null,
      "outputs": []
    },
    {
      "cell_type": "code",
      "metadata": {
        "id": "6otzXmX8Gce2",
        "colab": {
          "base_uri": "https://localhost:8080/"
        },
        "outputId": "14686ebf-6583-4c23-ef81-c4fd8a49a645"
      },
      "source": [
        "# loading training images\n",
        "train_img = []\n",
        "train_directory='/content/drive/MyDrive/Train_new_images/'\n",
        "for subdir,dirs,files in os.walk(train_directory):\n",
        "  dirs[:] = [folder]\n",
        "  for file in files:\n",
        "    img = imread(subdir+file, as_gray=True)\n",
        "    # normalizing the pixel values\n",
        "    img /= 255.0\n",
        "    # converting the type of pixel to float 32\n",
        "    img = img.astype('float32')\n",
        "    # appending the image into the list\n",
        "    train_img.append(img)\n",
        "\n",
        "# converting the list to numpy array\n",
        "train_x = np.array(train_img)\n",
        "\n",
        "if use_image == \"lower\":\n",
        "  train_x = train_x[:,43:59,4:58]\n",
        "  train_x = np.pad(train_x,[(0,0),(43,5),(4,6)])\n",
        "\n",
        "elif use_image == \"upper\":\n",
        "  train_x = train_x[:,:39,4:58]\n",
        "  train_x = np.pad(train_x,[(0,0),(0,25),(4,6)])\n",
        "\n",
        "# defining the target\n",
        "train_y = np.array(train_target)\n",
        "\n",
        "print(train_x.shape)\n",
        "print(train_y.shape)\n"
      ],
      "execution_count": null,
      "outputs": [
        {
          "output_type": "stream",
          "text": [
            "(188, 64, 64)\n",
            "(188, 1)\n"
          ],
          "name": "stdout"
        }
      ]
    },
    {
      "cell_type": "markdown",
      "metadata": {
        "id": "lj5aK-zJjSqp"
      },
      "source": []
    },
    {
      "cell_type": "code",
      "metadata": {
        "id": "utapuIjeJYp4",
        "colab": {
          "base_uri": "https://localhost:8080/"
        },
        "outputId": "0f72b918-5a16-4312-e985-92a0c1012f50"
      },
      "source": [
        "# loading Validation images\n",
        "val_img = []\n",
        "val_img_directory='/content/drive/MyDrive/Val_new_images/'\n",
        "for subdir,dirs,files in os.walk(val_img_directory):\n",
        "  dirs[:] = [folder]\n",
        "  for file in files:\n",
        "    img = imread(subdir+file, as_gray=True)\n",
        "    # normalizing the pixel values\n",
        "    img /= 255.0\n",
        "    # converting the type of pixel to float 32\n",
        "    img = img.astype('float32')\n",
        "    # appending the image into the list\n",
        "    val_img.append(img)\n",
        "\n",
        "# converting the list to numpy array\n",
        "val_x = np.array(val_img)\n",
        "\n",
        "if use_image == \"lower\":\n",
        "  val_x = val_x[:,43:59,4:58]\n",
        "  val_x = np.pad(val_x,[(0,0),(43,5),(4,6)])\n",
        "\n",
        "elif use_image == \"upper\":\n",
        "  val_x = val_x[:,:39,4:58]\n",
        "  val_x = np.pad(val_x,[(0,0),(0,25),(4,6)])\n",
        "\n",
        "# defining the target\n",
        "val_y = np.array(val_target)\n",
        "\n",
        "print(val_x.shape)\n",
        "print(val_y.shape)"
      ],
      "execution_count": null,
      "outputs": [
        {
          "output_type": "stream",
          "text": [
            "(47, 64, 64)\n",
            "(47, 1)\n"
          ],
          "name": "stdout"
        }
      ]
    },
    {
      "cell_type": "code",
      "metadata": {
        "id": "xFpvAGdYJEDX",
        "colab": {
          "base_uri": "https://localhost:8080/",
          "height": 627
        },
        "outputId": "9b94d9aa-de37-478e-82af-7474142b6eb0"
      },
      "source": [
        "# visualizing images\n",
        "\n",
        "i = 0\n",
        "\n",
        "plt.figure(figsize=(10,10))\n",
        "plt.subplot(221), plt.imshow(train_x[i], cmap='gray')\n",
        "plt.subplot(222), plt.imshow(train_x[i+25], cmap='gray')\n",
        "plt.subplot(223), plt.imshow(train_x[i+50], cmap='gray')\n",
        "plt.subplot(224), plt.imshow(train_x[i+75], cmap='gray')"
      ],
      "execution_count": null,
      "outputs": [
        {
          "output_type": "execute_result",
          "data": {
            "text/plain": [
              "(<matplotlib.axes._subplots.AxesSubplot at 0x7fcff44e3d30>,\n",
              " <matplotlib.image.AxesImage at 0x7fcff44d1518>)"
            ]
          },
          "metadata": {
            "tags": []
          },
          "execution_count": 81
        },
        {
          "output_type": "display_data",
          "data": {
            "image/png": "[encoded data removed]",
            "text/plain": [
              "<Figure size 720x720 with 4 Axes>"
            ]
          },
          "metadata": {
            "tags": [],
            "needs_background": "light"
          }
        }
      ]
    },
    {
      "cell_type": "markdown",
      "metadata": {
        "id": "rHSchdhJJzw7"
      },
      "source": [
        "### **Converting Images to Torch Format**"
      ]
    },
    {
      "cell_type": "code",
      "metadata": {
        "id": "f1FyJV4238yQ"
      },
      "source": [
        "from torch.utils.data import Dataset, DataLoader"
      ],
      "execution_count": null,
      "outputs": []
    },
    {
      "cell_type": "code",
      "metadata": {
        "id": "J7Bi2MhAP3CB"
      },
      "source": [
        "# configuration\n",
        "train_size = train_x.shape[0]\n",
        "train_shape = train_x.shape[1]\n",
        "val_size = val_x.shape[0]\n",
        "val_shape = val_x.shape[1]"
      ],
      "execution_count": null,
      "outputs": []
    },
    {
      "cell_type": "code",
      "metadata": {
        "id": "W6Etr6K2J3LW",
        "colab": {
          "base_uri": "https://localhost:8080/"
        },
        "outputId": "d9c4210d-3edb-4b0b-e66f-ca06a6daeede"
      },
      "source": [
        "# # converting training images into torch format\n",
        "train_x = train_x.reshape(train_size, 1, train_shape, train_shape)\n",
        "train_x  = torch.from_numpy(train_x)\n",
        "\n",
        "# converting the target into torch format\n",
        "train_y = train_y.astype(int);\n",
        "train_y = torch.from_numpy(train_y)\n",
        "\n",
        "# shape of training data\n",
        "train_x.shape, train_y.shape\n",
        "\n",
        "# converting validation images into torch format\n",
        "val_x = val_x.reshape(val_size, 1, val_shape, val_shape)\n",
        "val_x  = torch.from_numpy(val_x)\n",
        "\n",
        "# converting the target into torch format\n",
        "val_y = val_y.astype(int);\n",
        "val_y = torch.from_numpy(val_y)\n",
        "\n",
        "# shape of validation data\n",
        "val_x.shape, val_y.shape\n"
      ],
      "execution_count": null,
      "outputs": [
        {
          "output_type": "execute_result",
          "data": {
            "text/plain": [
              "(torch.Size([47, 1, 64, 64]), torch.Size([47, 1]))"
            ]
          },
          "metadata": {
            "tags": []
          },
          "execution_count": 84
        }
      ]
    },
    {
      "cell_type": "code",
      "metadata": {
        "id": "wJQFXrH5YUXc",
        "colab": {
          "base_uri": "https://localhost:8080/"
        },
        "outputId": "dbdc4702-bd49-4da1-862f-247f611877b0"
      },
      "source": [
        "(train_x.shape, train_y.shape), (val_x.shape, val_y.shape)"
      ],
      "execution_count": null,
      "outputs": [
        {
          "output_type": "execute_result",
          "data": {
            "text/plain": [
              "((torch.Size([188, 1, 64, 64]), torch.Size([188, 1])),\n",
              " (torch.Size([47, 1, 64, 64]), torch.Size([47, 1])))"
            ]
          },
          "metadata": {
            "tags": []
          },
          "execution_count": 85
        }
      ]
    },
    {
      "cell_type": "code",
      "metadata": {
        "id": "ZUa4B7Bj2drh"
      },
      "source": [
        "#data processing for batch data loader\n",
        "class Data(Dataset):\n",
        "    \n",
        "    def __init__(self, X_data, y_data):\n",
        "        self.X_data = X_data\n",
        "        self.y_data = y_data\n",
        "        \n",
        "    def __getitem__(self, index):\n",
        "        return self.X_data[index], self.y_data[index]\n",
        "        \n",
        "    def __len__ (self):\n",
        "        return len(self.X_data)\n",
        "\n",
        "\n",
        "train_data = Data(torch.FloatTensor(train_x), \n",
        "                       torch.FloatTensor(train_y.float()))\n",
        "\n",
        "val_data = Data(torch.FloatTensor(val_x), \n",
        "                       torch.FloatTensor(val_y.float()))"
      ],
      "execution_count": null,
      "outputs": []
    },
    {
      "cell_type": "markdown",
      "metadata": {
        "id": "2Fa-UQocI8fL"
      },
      "source": [
        "## **Defining Convolution Neural Network**"
      ]
    },
    {
      "cell_type": "code",
      "metadata": {
        "id": "-_J7xg-_ShV2"
      },
      "source": [
        "#CNN Architecture \n",
        "\n",
        "import torch.nn as nn\n",
        "import torch.nn.functional as F\n",
        "\n",
        "class Net2(Module):\n",
        "    def __init__(self):\n",
        "      super(Net2, self).__init__()\n",
        "      #we define convolutional layers \n",
        "      self.conv1 = nn.Conv2d(in_channels = 1, out_channels = 32, kernel_size = 3, stride= 1, padding = 1)\n",
        "      self.bn1 = nn.BatchNorm2d(32)\n",
        "      self.conv2 = nn.Conv2d(in_channels = 32, out_channels = 64, kernel_size = 3, stride = 1, padding = 1)\n",
        "      self.bn2 = nn.BatchNorm2d(64)\n",
        "      self.conv3 = nn.Conv2d(in_channels = 64, out_channels = 128, kernel_size = 3, stride=1, padding = 1)\n",
        "      self.bn3 = nn.BatchNorm2d(128)\n",
        "      self.conv4 = nn.Conv2d(in_channels = 128, out_channels = 256, kernel_size = 3, stride=1, padding = 1)\n",
        "      self.bn4 = nn.BatchNorm2d(256)\n",
        "\n",
        "      #2 fully connected layers to transform the output of the convolution layers to the final output\n",
        "      self.fc1 = nn.Linear(in_features = 4*4*256, out_features = 64)\n",
        "      self.fcbn1 = nn.BatchNorm1d(64)\n",
        "      self.fc2 = nn.Linear(in_features = 64, out_features = 1)       \n",
        "      self.dropout_rate = 0.1\n",
        "\n",
        "    def forward(self, s):\n",
        "      #we apply the convolution layers, followed by batch normalisation, \n",
        "      #maxpool and relu x 3\n",
        "      s = self.bn1(self.conv1(s))        # batch_size x 32 x 64 x 64\n",
        "      s = F.relu(F.max_pool2d(s, 2))     # batch_size x 32 x 32 x 32\n",
        "      s = self.bn2(self.conv2(s))        # batch_size x 64 x 32 x 32\n",
        "      s = F.relu(F.max_pool2d(s, 2))     # batch_size x 64 x 16 x 16\n",
        "      s = self.bn3(self.conv3(s))        # batch_size x 128 x 16 x 16\n",
        "      s = F.relu(F.max_pool2d(s, 2))     # batch_size x 128 x 8 x 8\n",
        "      s = self.bn4(self.conv4(s))        # batch_size x 256 x 8 x 8\n",
        "      s = F.relu(F.max_pool2d(s, 2))     # batch_size x 256 x 4 x 4\n",
        "\n",
        "      #flatten the output for each image\n",
        "      s = s.view(-1, 4*4*256) \n",
        "\n",
        "      #apply 2 fully connected layers with dropout\n",
        "      s = F.dropout(F.relu(self.fcbn1(self.fc1(s))), \n",
        "      p=self.dropout_rate, training=self.training)    \n",
        "      s = self.fc2(s)                                     \n",
        "      return s\n",
        "      #return F.log_softmax(s, dim=1)"
      ],
      "execution_count": null,
      "outputs": []
    },
    {
      "cell_type": "markdown",
      "metadata": {
        "id": "lE-6ENh4KCBg"
      },
      "source": [
        "### **Creating CNN model**"
      ]
    },
    {
      "cell_type": "code",
      "metadata": {
        "id": "YGDbKtx8T2Vo",
        "colab": {
          "base_uri": "https://localhost:8080/"
        },
        "outputId": "fe1e1954-e809-4723-cadb-bf2b44d1c697"
      },
      "source": [
        "from torch.optim import Adam\n",
        "from torch.optim import SGD\n",
        "from torch.optim.lr_scheduler import StepLR\n",
        "# Check if gpu support is available\n",
        "cuda_avail = torch.cuda.is_available()\n",
        "\n",
        "# Create model, optimizer and loss function\n",
        "model =Net2()\n",
        "\n",
        "#if cuda is available, move the model to the GPU\n",
        "if cuda_avail:\n",
        "    model.cuda()\n",
        "\n",
        "#Define the optimizer and loss function\n",
        "optimizer_adam = Adam(model.parameters(), lr=0.001,weight_decay=1e-4)  #adam optimizer\n",
        "optimizer_sgd = SGD(model.parameters(), lr=0.001, momentum=0.9)  #SGD optimizer\n",
        "#scheduler = StepLR(optimizer_adam, step_size=1, gamma=0.1) #adam scheduler \n",
        "scheduler = StepLR(optimizer_sgd, step_size=5, gamma=0.1). #SGD scheduler \n",
        "loss_BCE = nn.BCEWithLogitsLoss() #binary cross entropy loss\n",
        "#loss_CE = nn.CrossEntropyLoss() #cross entropy loss\n",
        "print(model)"
      ],
      "execution_count": null,
      "outputs": [
        {
          "output_type": "stream",
          "text": [
            "Net2(\n",
            "  (conv1): Conv2d(1, 32, kernel_size=(3, 3), stride=(1, 1), padding=(1, 1))\n",
            "  (bn1): BatchNorm2d(32, eps=1e-05, momentum=0.1, affine=True, track_running_stats=True)\n",
            "  (conv2): Conv2d(32, 64, kernel_size=(3, 3), stride=(1, 1), padding=(1, 1))\n",
            "  (bn2): BatchNorm2d(64, eps=1e-05, momentum=0.1, affine=True, track_running_stats=True)\n",
            "  (conv3): Conv2d(64, 128, kernel_size=(3, 3), stride=(1, 1), padding=(1, 1))\n",
            "  (bn3): BatchNorm2d(128, eps=1e-05, momentum=0.1, affine=True, track_running_stats=True)\n",
            "  (conv4): Conv2d(128, 256, kernel_size=(3, 3), stride=(1, 1), padding=(1, 1))\n",
            "  (bn4): BatchNorm2d(256, eps=1e-05, momentum=0.1, affine=True, track_running_stats=True)\n",
            "  (fc1): Linear(in_features=4096, out_features=64, bias=True)\n",
            "  (fcbn1): BatchNorm1d(64, eps=1e-05, momentum=0.1, affine=True, track_running_stats=True)\n",
            "  (fc2): Linear(in_features=64, out_features=1, bias=True)\n",
            ")\n"
          ],
          "name": "stdout"
        }
      ]
    },
    {
      "cell_type": "code",
      "metadata": {
        "id": "YNZT4z0x4eZh"
      },
      "source": [
        "def get_accuracy(y_pred, y_test):          #computes accuracy for model predictions\n",
        "    y_pred_tag = torch.round(torch.sigmoid(y_pred))\n",
        "\n",
        "    correct_results_sum = (y_pred_tag == y_test).sum().float()\n",
        "    acc = correct_results_sum/y_test.shape[0]\n",
        "    acc = torch.round(acc * 100)\n",
        "    \n",
        "    return acc"
      ],
      "execution_count": null,
      "outputs": []
    },
    {
      "cell_type": "code",
      "metadata": {
        "id": "0pG4MjYd3xfm"
      },
      "source": [
        "train_loader = DataLoader(dataset=train_data, batch_size=64, shuffle=True) #dataloader for batch data processing \n",
        "val_loader = DataLoader(dataset=val_data, batch_size=64)"
      ],
      "execution_count": null,
      "outputs": []
    },
    {
      "cell_type": "code",
      "metadata": {
        "id": "0CG7KRDgLZWH"
      },
      "source": [
        "def train(epochs):\n",
        "    model.train()\n",
        "    train_losses = []\n",
        "    train_accuracy = []\n",
        "    val_accuracy = []\n",
        "    Epoch=[]\n",
        "    tr_loss = 0\n",
        "    # getting the training set\n",
        "    x_train, y_train = Variable(train_x), Variable(train_y)\n",
        "    # getting the validation set\n",
        "    x_val, y_val = Variable(val_x), Variable(val_y)\n",
        "    # converting the data into GPU format\n",
        "    x_train = x_train.cuda()\n",
        "    y_train = y_train.cuda()\n",
        "    x_val = x_val.cuda()\n",
        "    y_val = y_val.cuda()\n",
        "    # prediction for training and validation set\n",
        "    for epoch in range(epochs):\n",
        "      Epoch.append(epoch)\n",
        "     # scheduler.step()\n",
        "      for X_batch, y_batch in train_loader:  #for every batch of the whole training dataset\n",
        "        X_batch, y_batch = X_batch.cuda(), y_batch.cuda()\n",
        "        output_train = model(X_batch) #pass train batch into model\n",
        "        loss_train = loss_BCE(output_train, y_batch.float()) #compute training loss\n",
        "        loss_train.backward() #back proganate loss\n",
        "        optimizer_adam.step() #update parameters based on loss\n",
        "        optimizer_adam.zero_grad() #zero gradient the optimizer\n",
        "        #optimizer_sgd.step()\n",
        "        #optimizer_sgd.zero_grad()\n",
        "      train_losses.append(loss_train) #append loss for this epoch to a list\n",
        "      acc_train = get_accuracy(model(x_train),y_train) #get training accuracy for this epoch\n",
        "      train_accuracy.append(acc_train) #append training accuracy for this epoch to a list\n",
        "      acc_val = get_accuracy(model(x_val),y_val) #get validation accuracy\n",
        "      val_accuracy.append(acc_val)\n",
        "      # computing the updated weights of all the model parameters\n",
        "      tr_loss = loss_train.item()\n",
        "      print('Epoch : ',epoch, '\\t', 'Train loss :', loss_train,'\\t', 'Train accuracy:',acc_train,'\\t', 'val accuracy:',acc_val)\n",
        "    plt.title(\"Training Accuracy\")\n",
        "    plt.plot(Epoch, train_accuracy, label=\"Train\")\n",
        "    plt.plot(Epoch, val_accuracy, label=\"Validation\")\n",
        "    plt.xlabel(\"Epoch\")\n",
        "    plt.ylabel(\"Accuracy\")\n",
        "    plt.legend(loc='best')\n",
        "    plt.show()\n",
        "\n",
        "    print(\"Final Training Loss: {}\".format(train_losses[-1]))\n",
        "    print(\"Final Training Accuracy: {}\".format(train_accuracy[-1]))\n",
        "    print(\"Final Validation Accuracy: {}\".format(val_accuracy[-1]))  "
      ],
      "execution_count": null,
      "outputs": []
    },
    {
      "cell_type": "code",
      "metadata": {
        "id": "yp0cenPFjas3",
        "colab": {
          "base_uri": "https://localhost:8080/",
          "height": 1000
        },
        "outputId": "5912aab3-ddae-46b7-e215-d05931427ee9"
      },
      "source": [
        "train(120)"
      ],
      "execution_count": null,
      "outputs": [
        {
          "output_type": "stream",
          "text": [
            "/usr/local/lib/python3.6/dist-packages/torch/optim/lr_scheduler.py:136: UserWarning: Detected call of `lr_scheduler.step()` before `optimizer.step()`. In PyTorch 1.1.0 and later, you should call them in the opposite order: `optimizer.step()` before `lr_scheduler.step()`.  Failure to do this will result in PyTorch skipping the first value of the learning rate schedule. See more details at https://pytorch.org/docs/stable/optim.html#how-to-adjust-learning-rate\n",
            "  \"https://pytorch.org/docs/stable/optim.html#how-to-adjust-learning-rate\", UserWarning)\n"
          ],
          "name": "stderr"
        },
        {
          "output_type": "stream",
          "text": [
            "Epoch :  0 \t Train loss : tensor(0.7553, device='cuda:0', grad_fn=<BinaryCrossEntropyWithLogitsBackward>) \t Train accuracy: tensor(57., device='cuda:0') \t val accuracy: tensor(57., device='cuda:0')\n",
            "Epoch :  1 \t Train loss : tensor(0.6941, device='cuda:0', grad_fn=<BinaryCrossEntropyWithLogitsBackward>) \t Train accuracy: tensor(76., device='cuda:0') \t val accuracy: tensor(49., device='cuda:0')\n",
            "Epoch :  2 \t Train loss : tensor(0.6362, device='cuda:0', grad_fn=<BinaryCrossEntropyWithLogitsBackward>) \t Train accuracy: tensor(84., device='cuda:0') \t val accuracy: tensor(43., device='cuda:0')\n",
            "Epoch :  3 \t Train loss : tensor(0.5922, device='cuda:0', grad_fn=<BinaryCrossEntropyWithLogitsBackward>) \t Train accuracy: tensor(89., device='cuda:0') \t val accuracy: tensor(36., device='cuda:0')\n",
            "Epoch :  4 \t Train loss : tensor(0.4382, device='cuda:0', grad_fn=<BinaryCrossEntropyWithLogitsBackward>) \t Train accuracy: tensor(94., device='cuda:0') \t val accuracy: tensor(45., device='cuda:0')\n",
            "Epoch :  5 \t Train loss : tensor(0.3817, device='cuda:0', grad_fn=<BinaryCrossEntropyWithLogitsBackward>) \t Train accuracy: tensor(97., device='cuda:0') \t val accuracy: tensor(51., device='cuda:0')\n",
            "Epoch :  6 \t Train loss : tensor(0.2873, device='cuda:0', grad_fn=<BinaryCrossEntropyWithLogitsBackward>) \t Train accuracy: tensor(100., device='cuda:0') \t val accuracy: tensor(57., device='cuda:0')\n",
            "Epoch :  7 \t Train loss : tensor(0.2213, device='cuda:0', grad_fn=<BinaryCrossEntropyWithLogitsBackward>) \t Train accuracy: tensor(99., device='cuda:0') \t val accuracy: tensor(47., device='cuda:0')\n",
            "Epoch :  8 \t Train loss : tensor(0.2121, device='cuda:0', grad_fn=<BinaryCrossEntropyWithLogitsBackward>) \t Train accuracy: tensor(100., device='cuda:0') \t val accuracy: tensor(51., device='cuda:0')\n",
            "Epoch :  9 \t Train loss : tensor(0.1872, device='cuda:0', grad_fn=<BinaryCrossEntropyWithLogitsBackward>) \t Train accuracy: tensor(100., device='cuda:0') \t val accuracy: tensor(53., device='cuda:0')\n",
            "Epoch :  10 \t Train loss : tensor(0.1361, device='cuda:0', grad_fn=<BinaryCrossEntropyWithLogitsBackward>) \t Train accuracy: tensor(100., device='cuda:0') \t val accuracy: tensor(60., device='cuda:0')\n",
            "Epoch :  11 \t Train loss : tensor(0.1185, device='cuda:0', grad_fn=<BinaryCrossEntropyWithLogitsBackward>) \t Train accuracy: tensor(100., device='cuda:0') \t val accuracy: tensor(53., device='cuda:0')\n",
            "Epoch :  12 \t Train loss : tensor(0.1025, device='cuda:0', grad_fn=<BinaryCrossEntropyWithLogitsBackward>) \t Train accuracy: tensor(100., device='cuda:0') \t val accuracy: tensor(53., device='cuda:0')\n",
            "Epoch :  13 \t Train loss : tensor(0.0936, device='cuda:0', grad_fn=<BinaryCrossEntropyWithLogitsBackward>) \t Train accuracy: tensor(100., device='cuda:0') \t val accuracy: tensor(53., device='cuda:0')\n",
            "Epoch :  14 \t Train loss : tensor(0.0971, device='cuda:0', grad_fn=<BinaryCrossEntropyWithLogitsBackward>) \t Train accuracy: tensor(100., device='cuda:0') \t val accuracy: tensor(55., device='cuda:0')\n",
            "Epoch :  15 \t Train loss : tensor(0.0830, device='cuda:0', grad_fn=<BinaryCrossEntropyWithLogitsBackward>) \t Train accuracy: tensor(100., device='cuda:0') \t val accuracy: tensor(55., device='cuda:0')\n",
            "Epoch :  16 \t Train loss : tensor(0.0819, device='cuda:0', grad_fn=<BinaryCrossEntropyWithLogitsBackward>) \t Train accuracy: tensor(100., device='cuda:0') \t val accuracy: tensor(53., device='cuda:0')\n",
            "Epoch :  17 \t Train loss : tensor(0.0643, device='cuda:0', grad_fn=<BinaryCrossEntropyWithLogitsBackward>) \t Train accuracy: tensor(100., device='cuda:0') \t val accuracy: tensor(55., device='cuda:0')\n",
            "Epoch :  18 \t Train loss : tensor(0.0732, device='cuda:0', grad_fn=<BinaryCrossEntropyWithLogitsBackward>) \t Train accuracy: tensor(100., device='cuda:0') \t val accuracy: tensor(55., device='cuda:0')\n",
            "Epoch :  19 \t Train loss : tensor(0.0537, device='cuda:0', grad_fn=<BinaryCrossEntropyWithLogitsBackward>) \t Train accuracy: tensor(100., device='cuda:0') \t val accuracy: tensor(55., device='cuda:0')\n",
            "Epoch :  20 \t Train loss : tensor(0.0511, device='cuda:0', grad_fn=<BinaryCrossEntropyWithLogitsBackward>) \t Train accuracy: tensor(100., device='cuda:0') \t val accuracy: tensor(57., device='cuda:0')\n",
            "Epoch :  21 \t Train loss : tensor(0.0521, device='cuda:0', grad_fn=<BinaryCrossEntropyWithLogitsBackward>) \t Train accuracy: tensor(100., device='cuda:0') \t val accuracy: tensor(55., device='cuda:0')\n",
            "Epoch :  22 \t Train loss : tensor(0.0447, device='cuda:0', grad_fn=<BinaryCrossEntropyWithLogitsBackward>) \t Train accuracy: tensor(100., device='cuda:0') \t val accuracy: tensor(51., device='cuda:0')\n",
            "Epoch :  23 \t Train loss : tensor(0.0393, device='cuda:0', grad_fn=<BinaryCrossEntropyWithLogitsBackward>) \t Train accuracy: tensor(100., device='cuda:0') \t val accuracy: tensor(49., device='cuda:0')\n",
            "Epoch :  24 \t Train loss : tensor(0.0375, device='cuda:0', grad_fn=<BinaryCrossEntropyWithLogitsBackward>) \t Train accuracy: tensor(100., device='cuda:0') \t val accuracy: tensor(57., device='cuda:0')\n",
            "Epoch :  25 \t Train loss : tensor(0.0351, device='cuda:0', grad_fn=<BinaryCrossEntropyWithLogitsBackward>) \t Train accuracy: tensor(100., device='cuda:0') \t val accuracy: tensor(53., device='cuda:0')\n",
            "Epoch :  26 \t Train loss : tensor(0.0375, device='cuda:0', grad_fn=<BinaryCrossEntropyWithLogitsBackward>) \t Train accuracy: tensor(100., device='cuda:0') \t val accuracy: tensor(49., device='cuda:0')\n",
            "Epoch :  27 \t Train loss : tensor(0.0314, device='cuda:0', grad_fn=<BinaryCrossEntropyWithLogitsBackward>) \t Train accuracy: tensor(100., device='cuda:0') \t val accuracy: tensor(49., device='cuda:0')\n",
            "Epoch :  28 \t Train loss : tensor(0.0289, device='cuda:0', grad_fn=<BinaryCrossEntropyWithLogitsBackward>) \t Train accuracy: tensor(100., device='cuda:0') \t val accuracy: tensor(55., device='cuda:0')\n",
            "Epoch :  29 \t Train loss : tensor(0.0287, device='cuda:0', grad_fn=<BinaryCrossEntropyWithLogitsBackward>) \t Train accuracy: tensor(100., device='cuda:0') \t val accuracy: tensor(57., device='cuda:0')\n",
            "Epoch :  30 \t Train loss : tensor(0.0302, device='cuda:0', grad_fn=<BinaryCrossEntropyWithLogitsBackward>) \t Train accuracy: tensor(100., device='cuda:0') \t val accuracy: tensor(57., device='cuda:0')\n",
            "Epoch :  31 \t Train loss : tensor(0.0269, device='cuda:0', grad_fn=<BinaryCrossEntropyWithLogitsBackward>) \t Train accuracy: tensor(100., device='cuda:0') \t val accuracy: tensor(55., device='cuda:0')\n",
            "Epoch :  32 \t Train loss : tensor(0.0273, device='cuda:0', grad_fn=<BinaryCrossEntropyWithLogitsBackward>) \t Train accuracy: tensor(100., device='cuda:0') \t val accuracy: tensor(53., device='cuda:0')\n",
            "Epoch :  33 \t Train loss : tensor(0.0252, device='cuda:0', grad_fn=<BinaryCrossEntropyWithLogitsBackward>) \t Train accuracy: tensor(100., device='cuda:0') \t val accuracy: tensor(55., device='cuda:0')\n",
            "Epoch :  34 \t Train loss : tensor(0.0218, device='cuda:0', grad_fn=<BinaryCrossEntropyWithLogitsBackward>) \t Train accuracy: tensor(100., device='cuda:0') \t val accuracy: tensor(55., device='cuda:0')\n",
            "Epoch :  35 \t Train loss : tensor(0.0218, device='cuda:0', grad_fn=<BinaryCrossEntropyWithLogitsBackward>) \t Train accuracy: tensor(100., device='cuda:0') \t val accuracy: tensor(55., device='cuda:0')\n",
            "Epoch :  36 \t Train loss : tensor(0.0202, device='cuda:0', grad_fn=<BinaryCrossEntropyWithLogitsBackward>) \t Train accuracy: tensor(100., device='cuda:0') \t val accuracy: tensor(55., device='cuda:0')\n",
            "Epoch :  37 \t Train loss : tensor(0.0192, device='cuda:0', grad_fn=<BinaryCrossEntropyWithLogitsBackward>) \t Train accuracy: tensor(100., device='cuda:0') \t val accuracy: tensor(57., device='cuda:0')\n",
            "Epoch :  38 \t Train loss : tensor(0.0208, device='cuda:0', grad_fn=<BinaryCrossEntropyWithLogitsBackward>) \t Train accuracy: tensor(100., device='cuda:0') \t val accuracy: tensor(57., device='cuda:0')\n",
            "Epoch :  39 \t Train loss : tensor(0.0199, device='cuda:0', grad_fn=<BinaryCrossEntropyWithLogitsBackward>) \t Train accuracy: tensor(100., device='cuda:0') \t val accuracy: tensor(55., device='cuda:0')\n",
            "Epoch :  40 \t Train loss : tensor(0.0166, device='cuda:0', grad_fn=<BinaryCrossEntropyWithLogitsBackward>) \t Train accuracy: tensor(100., device='cuda:0') \t val accuracy: tensor(55., device='cuda:0')\n",
            "Epoch :  41 \t Train loss : tensor(0.0198, device='cuda:0', grad_fn=<BinaryCrossEntropyWithLogitsBackward>) \t Train accuracy: tensor(100., device='cuda:0') \t val accuracy: tensor(55., device='cuda:0')\n",
            "Epoch :  42 \t Train loss : tensor(0.0240, device='cuda:0', grad_fn=<BinaryCrossEntropyWithLogitsBackward>) \t Train accuracy: tensor(100., device='cuda:0') \t val accuracy: tensor(55., device='cuda:0')\n",
            "Epoch :  43 \t Train loss : tensor(0.0158, device='cuda:0', grad_fn=<BinaryCrossEntropyWithLogitsBackward>) \t Train accuracy: tensor(100., device='cuda:0') \t val accuracy: tensor(55., device='cuda:0')\n",
            "Epoch :  44 \t Train loss : tensor(0.0187, device='cuda:0', grad_fn=<BinaryCrossEntropyWithLogitsBackward>) \t Train accuracy: tensor(100., device='cuda:0') \t val accuracy: tensor(55., device='cuda:0')\n",
            "Epoch :  45 \t Train loss : tensor(0.0165, device='cuda:0', grad_fn=<BinaryCrossEntropyWithLogitsBackward>) \t Train accuracy: tensor(100., device='cuda:0') \t val accuracy: tensor(57., device='cuda:0')\n",
            "Epoch :  46 \t Train loss : tensor(0.0133, device='cuda:0', grad_fn=<BinaryCrossEntropyWithLogitsBackward>) \t Train accuracy: tensor(100., device='cuda:0') \t val accuracy: tensor(55., device='cuda:0')\n",
            "Epoch :  47 \t Train loss : tensor(0.0130, device='cuda:0', grad_fn=<BinaryCrossEntropyWithLogitsBackward>) \t Train accuracy: tensor(100., device='cuda:0') \t val accuracy: tensor(55., device='cuda:0')\n",
            "Epoch :  48 \t Train loss : tensor(0.0175, device='cuda:0', grad_fn=<BinaryCrossEntropyWithLogitsBackward>) \t Train accuracy: tensor(100., device='cuda:0') \t val accuracy: tensor(55., device='cuda:0')\n",
            "Epoch :  49 \t Train loss : tensor(0.0167, device='cuda:0', grad_fn=<BinaryCrossEntropyWithLogitsBackward>) \t Train accuracy: tensor(100., device='cuda:0') \t val accuracy: tensor(57., device='cuda:0')\n",
            "Epoch :  50 \t Train loss : tensor(0.0130, device='cuda:0', grad_fn=<BinaryCrossEntropyWithLogitsBackward>) \t Train accuracy: tensor(100., device='cuda:0') \t val accuracy: tensor(57., device='cuda:0')\n",
            "Epoch :  51 \t Train loss : tensor(0.0121, device='cuda:0', grad_fn=<BinaryCrossEntropyWithLogitsBackward>) \t Train accuracy: tensor(100., device='cuda:0') \t val accuracy: tensor(55., device='cuda:0')\n",
            "Epoch :  52 \t Train loss : tensor(0.0114, device='cuda:0', grad_fn=<BinaryCrossEntropyWithLogitsBackward>) \t Train accuracy: tensor(100., device='cuda:0') \t val accuracy: tensor(53., device='cuda:0')\n",
            "Epoch :  53 \t Train loss : tensor(0.0181, device='cuda:0', grad_fn=<BinaryCrossEntropyWithLogitsBackward>) \t Train accuracy: tensor(100., device='cuda:0') \t val accuracy: tensor(53., device='cuda:0')\n",
            "Epoch :  54 \t Train loss : tensor(0.0112, device='cuda:0', grad_fn=<BinaryCrossEntropyWithLogitsBackward>) \t Train accuracy: tensor(100., device='cuda:0') \t val accuracy: tensor(57., device='cuda:0')\n",
            "Epoch :  55 \t Train loss : tensor(0.0102, device='cuda:0', grad_fn=<BinaryCrossEntropyWithLogitsBackward>) \t Train accuracy: tensor(100., device='cuda:0') \t val accuracy: tensor(55., device='cuda:0')\n",
            "Epoch :  56 \t Train loss : tensor(0.0101, device='cuda:0', grad_fn=<BinaryCrossEntropyWithLogitsBackward>) \t Train accuracy: tensor(100., device='cuda:0') \t val accuracy: tensor(55., device='cuda:0')\n",
            "Epoch :  57 \t Train loss : tensor(0.0124, device='cuda:0', grad_fn=<BinaryCrossEntropyWithLogitsBackward>) \t Train accuracy: tensor(100., device='cuda:0') \t val accuracy: tensor(55., device='cuda:0')\n",
            "Epoch :  58 \t Train loss : tensor(0.0097, device='cuda:0', grad_fn=<BinaryCrossEntropyWithLogitsBackward>) \t Train accuracy: tensor(100., device='cuda:0') \t val accuracy: tensor(55., device='cuda:0')\n",
            "Epoch :  59 \t Train loss : tensor(0.0175, device='cuda:0', grad_fn=<BinaryCrossEntropyWithLogitsBackward>) \t Train accuracy: tensor(100., device='cuda:0') \t val accuracy: tensor(57., device='cuda:0')\n",
            "Epoch :  60 \t Train loss : tensor(0.0089, device='cuda:0', grad_fn=<BinaryCrossEntropyWithLogitsBackward>) \t Train accuracy: tensor(100., device='cuda:0') \t val accuracy: tensor(55., device='cuda:0')\n",
            "Epoch :  61 \t Train loss : tensor(0.0088, device='cuda:0', grad_fn=<BinaryCrossEntropyWithLogitsBackward>) \t Train accuracy: tensor(100., device='cuda:0') \t val accuracy: tensor(55., device='cuda:0')\n",
            "Epoch :  62 \t Train loss : tensor(0.0104, device='cuda:0', grad_fn=<BinaryCrossEntropyWithLogitsBackward>) \t Train accuracy: tensor(100., device='cuda:0') \t val accuracy: tensor(55., device='cuda:0')\n",
            "Epoch :  63 \t Train loss : tensor(0.0082, device='cuda:0', grad_fn=<BinaryCrossEntropyWithLogitsBackward>) \t Train accuracy: tensor(100., device='cuda:0') \t val accuracy: tensor(55., device='cuda:0')\n",
            "Epoch :  64 \t Train loss : tensor(0.0084, device='cuda:0', grad_fn=<BinaryCrossEntropyWithLogitsBackward>) \t Train accuracy: tensor(100., device='cuda:0') \t val accuracy: tensor(57., device='cuda:0')\n",
            "Epoch :  65 \t Train loss : tensor(0.0072, device='cuda:0', grad_fn=<BinaryCrossEntropyWithLogitsBackward>) \t Train accuracy: tensor(100., device='cuda:0') \t val accuracy: tensor(57., device='cuda:0')\n",
            "Epoch :  66 \t Train loss : tensor(0.0091, device='cuda:0', grad_fn=<BinaryCrossEntropyWithLogitsBackward>) \t Train accuracy: tensor(100., device='cuda:0') \t val accuracy: tensor(57., device='cuda:0')\n",
            "Epoch :  67 \t Train loss : tensor(0.0091, device='cuda:0', grad_fn=<BinaryCrossEntropyWithLogitsBackward>) \t Train accuracy: tensor(100., device='cuda:0') \t val accuracy: tensor(55., device='cuda:0')\n",
            "Epoch :  68 \t Train loss : tensor(0.0112, device='cuda:0', grad_fn=<BinaryCrossEntropyWithLogitsBackward>) \t Train accuracy: tensor(100., device='cuda:0') \t val accuracy: tensor(55., device='cuda:0')\n",
            "Epoch :  69 \t Train loss : tensor(0.0071, device='cuda:0', grad_fn=<BinaryCrossEntropyWithLogitsBackward>) \t Train accuracy: tensor(100., device='cuda:0') \t val accuracy: tensor(53., device='cuda:0')\n",
            "Epoch :  70 \t Train loss : tensor(0.0068, device='cuda:0', grad_fn=<BinaryCrossEntropyWithLogitsBackward>) \t Train accuracy: tensor(100., device='cuda:0') \t val accuracy: tensor(55., device='cuda:0')\n",
            "Epoch :  71 \t Train loss : tensor(0.0067, device='cuda:0', grad_fn=<BinaryCrossEntropyWithLogitsBackward>) \t Train accuracy: tensor(100., device='cuda:0') \t val accuracy: tensor(55., device='cuda:0')\n",
            "Epoch :  72 \t Train loss : tensor(0.0066, device='cuda:0', grad_fn=<BinaryCrossEntropyWithLogitsBackward>) \t Train accuracy: tensor(100., device='cuda:0') \t val accuracy: tensor(55., device='cuda:0')\n",
            "Epoch :  73 \t Train loss : tensor(0.0076, device='cuda:0', grad_fn=<BinaryCrossEntropyWithLogitsBackward>) \t Train accuracy: tensor(100., device='cuda:0') \t val accuracy: tensor(55., device='cuda:0')\n",
            "Epoch :  74 \t Train loss : tensor(0.0091, device='cuda:0', grad_fn=<BinaryCrossEntropyWithLogitsBackward>) \t Train accuracy: tensor(100., device='cuda:0') \t val accuracy: tensor(55., device='cuda:0')\n",
            "Epoch :  75 \t Train loss : tensor(0.0059, device='cuda:0', grad_fn=<BinaryCrossEntropyWithLogitsBackward>) \t Train accuracy: tensor(100., device='cuda:0') \t val accuracy: tensor(53., device='cuda:0')\n",
            "Epoch :  76 \t Train loss : tensor(0.0062, device='cuda:0', grad_fn=<BinaryCrossEntropyWithLogitsBackward>) \t Train accuracy: tensor(100., device='cuda:0') \t val accuracy: tensor(55., device='cuda:0')\n",
            "Epoch :  77 \t Train loss : tensor(0.0061, device='cuda:0', grad_fn=<BinaryCrossEntropyWithLogitsBackward>) \t Train accuracy: tensor(100., device='cuda:0') \t val accuracy: tensor(57., device='cuda:0')\n",
            "Epoch :  78 \t Train loss : tensor(0.0060, device='cuda:0', grad_fn=<BinaryCrossEntropyWithLogitsBackward>) \t Train accuracy: tensor(100., device='cuda:0') \t val accuracy: tensor(55., device='cuda:0')\n",
            "Epoch :  79 \t Train loss : tensor(0.0074, device='cuda:0', grad_fn=<BinaryCrossEntropyWithLogitsBackward>) \t Train accuracy: tensor(100., device='cuda:0') \t val accuracy: tensor(55., device='cuda:0')\n",
            "Epoch :  80 \t Train loss : tensor(0.0056, device='cuda:0', grad_fn=<BinaryCrossEntropyWithLogitsBackward>) \t Train accuracy: tensor(100., device='cuda:0') \t val accuracy: tensor(55., device='cuda:0')\n",
            "Epoch :  81 \t Train loss : tensor(0.0064, device='cuda:0', grad_fn=<BinaryCrossEntropyWithLogitsBackward>) \t Train accuracy: tensor(100., device='cuda:0') \t val accuracy: tensor(55., device='cuda:0')\n",
            "Epoch :  82 \t Train loss : tensor(0.0053, device='cuda:0', grad_fn=<BinaryCrossEntropyWithLogitsBackward>) \t Train accuracy: tensor(100., device='cuda:0') \t val accuracy: tensor(55., device='cuda:0')\n",
            "Epoch :  83 \t Train loss : tensor(0.0069, device='cuda:0', grad_fn=<BinaryCrossEntropyWithLogitsBackward>) \t Train accuracy: tensor(100., device='cuda:0') \t val accuracy: tensor(55., device='cuda:0')\n",
            "Epoch :  84 \t Train loss : tensor(0.0051, device='cuda:0', grad_fn=<BinaryCrossEntropyWithLogitsBackward>) \t Train accuracy: tensor(100., device='cuda:0') \t val accuracy: tensor(55., device='cuda:0')\n",
            "Epoch :  85 \t Train loss : tensor(0.0056, device='cuda:0', grad_fn=<BinaryCrossEntropyWithLogitsBackward>) \t Train accuracy: tensor(100., device='cuda:0') \t val accuracy: tensor(55., device='cuda:0')\n",
            "Epoch :  86 \t Train loss : tensor(0.0050, device='cuda:0', grad_fn=<BinaryCrossEntropyWithLogitsBackward>) \t Train accuracy: tensor(100., device='cuda:0') \t val accuracy: tensor(55., device='cuda:0')\n",
            "Epoch :  87 \t Train loss : tensor(0.0060, device='cuda:0', grad_fn=<BinaryCrossEntropyWithLogitsBackward>) \t Train accuracy: tensor(100., device='cuda:0') \t val accuracy: tensor(57., device='cuda:0')\n",
            "Epoch :  88 \t Train loss : tensor(0.0047, device='cuda:0', grad_fn=<BinaryCrossEntropyWithLogitsBackward>) \t Train accuracy: tensor(100., device='cuda:0') \t val accuracy: tensor(55., device='cuda:0')\n",
            "Epoch :  89 \t Train loss : tensor(0.0047, device='cuda:0', grad_fn=<BinaryCrossEntropyWithLogitsBackward>) \t Train accuracy: tensor(100., device='cuda:0') \t val accuracy: tensor(55., device='cuda:0')\n",
            "Epoch :  90 \t Train loss : tensor(0.0053, device='cuda:0', grad_fn=<BinaryCrossEntropyWithLogitsBackward>) \t Train accuracy: tensor(100., device='cuda:0') \t val accuracy: tensor(55., device='cuda:0')\n",
            "Epoch :  91 \t Train loss : tensor(0.0045, device='cuda:0', grad_fn=<BinaryCrossEntropyWithLogitsBackward>) \t Train accuracy: tensor(100., device='cuda:0') \t val accuracy: tensor(55., device='cuda:0')\n",
            "Epoch :  92 \t Train loss : tensor(0.0044, device='cuda:0', grad_fn=<BinaryCrossEntropyWithLogitsBackward>) \t Train accuracy: tensor(100., device='cuda:0') \t val accuracy: tensor(55., device='cuda:0')\n",
            "Epoch :  93 \t Train loss : tensor(0.0061, device='cuda:0', grad_fn=<BinaryCrossEntropyWithLogitsBackward>) \t Train accuracy: tensor(100., device='cuda:0') \t val accuracy: tensor(55., device='cuda:0')\n",
            "Epoch :  94 \t Train loss : tensor(0.0042, device='cuda:0', grad_fn=<BinaryCrossEntropyWithLogitsBackward>) \t Train accuracy: tensor(100., device='cuda:0') \t val accuracy: tensor(55., device='cuda:0')\n",
            "Epoch :  95 \t Train loss : tensor(0.0041, device='cuda:0', grad_fn=<BinaryCrossEntropyWithLogitsBackward>) \t Train accuracy: tensor(100., device='cuda:0') \t val accuracy: tensor(55., device='cuda:0')\n",
            "Epoch :  96 \t Train loss : tensor(0.0039, device='cuda:0', grad_fn=<BinaryCrossEntropyWithLogitsBackward>) \t Train accuracy: tensor(100., device='cuda:0') \t val accuracy: tensor(53., device='cuda:0')\n",
            "Epoch :  97 \t Train loss : tensor(0.0041, device='cuda:0', grad_fn=<BinaryCrossEntropyWithLogitsBackward>) \t Train accuracy: tensor(100., device='cuda:0') \t val accuracy: tensor(55., device='cuda:0')\n",
            "Epoch :  98 \t Train loss : tensor(0.0047, device='cuda:0', grad_fn=<BinaryCrossEntropyWithLogitsBackward>) \t Train accuracy: tensor(100., device='cuda:0') \t val accuracy: tensor(55., device='cuda:0')\n",
            "Epoch :  99 \t Train loss : tensor(0.0083, device='cuda:0', grad_fn=<BinaryCrossEntropyWithLogitsBackward>) \t Train accuracy: tensor(100., device='cuda:0') \t val accuracy: tensor(55., device='cuda:0')\n",
            "Epoch :  100 \t Train loss : tensor(0.0040, device='cuda:0', grad_fn=<BinaryCrossEntropyWithLogitsBackward>) \t Train accuracy: tensor(100., device='cuda:0') \t val accuracy: tensor(55., device='cuda:0')\n",
            "Epoch :  101 \t Train loss : tensor(0.0052, device='cuda:0', grad_fn=<BinaryCrossEntropyWithLogitsBackward>) \t Train accuracy: tensor(100., device='cuda:0') \t val accuracy: tensor(57., device='cuda:0')\n",
            "Epoch :  102 \t Train loss : tensor(0.0039, device='cuda:0', grad_fn=<BinaryCrossEntropyWithLogitsBackward>) \t Train accuracy: tensor(100., device='cuda:0') \t val accuracy: tensor(55., device='cuda:0')\n",
            "Epoch :  103 \t Train loss : tensor(0.0046, device='cuda:0', grad_fn=<BinaryCrossEntropyWithLogitsBackward>) \t Train accuracy: tensor(100., device='cuda:0') \t val accuracy: tensor(57., device='cuda:0')\n",
            "Epoch :  104 \t Train loss : tensor(0.0034, device='cuda:0', grad_fn=<BinaryCrossEntropyWithLogitsBackward>) \t Train accuracy: tensor(100., device='cuda:0') \t val accuracy: tensor(55., device='cuda:0')\n",
            "Epoch :  105 \t Train loss : tensor(0.0034, device='cuda:0', grad_fn=<BinaryCrossEntropyWithLogitsBackward>) \t Train accuracy: tensor(100., device='cuda:0') \t val accuracy: tensor(57., device='cuda:0')\n",
            "Epoch :  106 \t Train loss : tensor(0.0039, device='cuda:0', grad_fn=<BinaryCrossEntropyWithLogitsBackward>) \t Train accuracy: tensor(100., device='cuda:0') \t val accuracy: tensor(57., device='cuda:0')\n",
            "Epoch :  107 \t Train loss : tensor(0.0035, device='cuda:0', grad_fn=<BinaryCrossEntropyWithLogitsBackward>) \t Train accuracy: tensor(100., device='cuda:0') \t val accuracy: tensor(57., device='cuda:0')\n",
            "Epoch :  108 \t Train loss : tensor(0.0033, device='cuda:0', grad_fn=<BinaryCrossEntropyWithLogitsBackward>) \t Train accuracy: tensor(100., device='cuda:0') \t val accuracy: tensor(57., device='cuda:0')\n",
            "Epoch :  109 \t Train loss : tensor(0.0034, device='cuda:0', grad_fn=<BinaryCrossEntropyWithLogitsBackward>) \t Train accuracy: tensor(100., device='cuda:0') \t val accuracy: tensor(57., device='cuda:0')\n",
            "Epoch :  110 \t Train loss : tensor(0.0064, device='cuda:0', grad_fn=<BinaryCrossEntropyWithLogitsBackward>) \t Train accuracy: tensor(100., device='cuda:0') \t val accuracy: tensor(53., device='cuda:0')\n",
            "Epoch :  111 \t Train loss : tensor(0.0032, device='cuda:0', grad_fn=<BinaryCrossEntropyWithLogitsBackward>) \t Train accuracy: tensor(100., device='cuda:0') \t val accuracy: tensor(57., device='cuda:0')\n",
            "Epoch :  112 \t Train loss : tensor(0.0040, device='cuda:0', grad_fn=<BinaryCrossEntropyWithLogitsBackward>) \t Train accuracy: tensor(100., device='cuda:0') \t val accuracy: tensor(57., device='cuda:0')\n",
            "Epoch :  113 \t Train loss : tensor(0.0040, device='cuda:0', grad_fn=<BinaryCrossEntropyWithLogitsBackward>) \t Train accuracy: tensor(100., device='cuda:0') \t val accuracy: tensor(57., device='cuda:0')\n",
            "Epoch :  114 \t Train loss : tensor(0.0032, device='cuda:0', grad_fn=<BinaryCrossEntropyWithLogitsBackward>) \t Train accuracy: tensor(100., device='cuda:0') \t val accuracy: tensor(51., device='cuda:0')\n",
            "Epoch :  115 \t Train loss : tensor(0.0036, device='cuda:0', grad_fn=<BinaryCrossEntropyWithLogitsBackward>) \t Train accuracy: tensor(100., device='cuda:0') \t val accuracy: tensor(51., device='cuda:0')\n",
            "Epoch :  116 \t Train loss : tensor(0.0040, device='cuda:0', grad_fn=<BinaryCrossEntropyWithLogitsBackward>) \t Train accuracy: tensor(100., device='cuda:0') \t val accuracy: tensor(53., device='cuda:0')\n",
            "Epoch :  117 \t Train loss : tensor(0.0033, device='cuda:0', grad_fn=<BinaryCrossEntropyWithLogitsBackward>) \t Train accuracy: tensor(100., device='cuda:0') \t val accuracy: tensor(53., device='cuda:0')\n",
            "Epoch :  118 \t Train loss : tensor(0.0030, device='cuda:0', grad_fn=<BinaryCrossEntropyWithLogitsBackward>) \t Train accuracy: tensor(100., device='cuda:0') \t val accuracy: tensor(53., device='cuda:0')\n",
            "Epoch :  119 \t Train loss : tensor(0.0031, device='cuda:0', grad_fn=<BinaryCrossEntropyWithLogitsBackward>) \t Train accuracy: tensor(100., device='cuda:0') \t val accuracy: tensor(53., device='cuda:0')\n"
          ],
          "name": "stdout"
        },
        {
          "output_type": "display_data",
          "data": {
            "image/png": "[encoded data removed]",
            "text/plain": [
              "<Figure size 432x288 with 1 Axes>"
            ]
          },
          "metadata": {
            "tags": [],
            "needs_background": "light"
          }
        },
        {
          "output_type": "stream",
          "text": [
            "Final Training Loss: 0.003147433279082179\n",
            "Final Training Accuracy: 100.0\n",
            "Final Validation Accuracy: 53.0\n"
          ],
          "name": "stdout"
        }
      ]
    },
    {
      "cell_type": "markdown",
      "metadata": {
        "id": "lZZobU4_Kw1a"
      },
      "source": [
        "## **Prediction**"
      ]
    },
    {
      "cell_type": "code",
      "metadata": {
        "id": "HZw65OzGJOUO",
        "colab": {
          "base_uri": "https://localhost:8080/"
        },
        "outputId": "041f1698-9fcf-423a-a125-1a44164f138d"
      },
      "source": [
        "#prediction for validation set\n",
        "with torch.no_grad():\n",
        "    softmax = model(val_x.cuda())\n",
        "    softmax=softmax.cpu()\n",
        "prob = list(softmax.numpy())\n",
        "predictions = np.argmax(prob, axis=1)\n",
        "accuracy_score(val_y, predictions)"
      ],
      "execution_count": null,
      "outputs": [
        {
          "output_type": "stream",
          "text": [
            "/usr/local/lib/python3.6/dist-packages/torch/nn/functional.py:1628: UserWarning: nn.functional.tanh is deprecated. Use torch.tanh instead.\n",
            "  warnings.warn(\"nn.functional.tanh is deprecated. Use torch.tanh instead.\")\n"
          ],
          "name": "stderr"
        },
        {
          "output_type": "execute_result",
          "data": {
            "text/plain": [
              "0.55"
            ]
          },
          "metadata": {
            "tags": []
          },
          "execution_count": 502
        }
      ]
    },
    {
      "cell_type": "code",
      "metadata": {
        "id": "zXo1dFnPmdNb",
        "colab": {
          "base_uri": "https://localhost:8080/"
        },
        "outputId": "5881a7f8-485f-438e-f7e7-81f0ecfdac39"
      },
      "source": [
        "#accuracy score on validation set\n",
        "y_pred_list = []\n",
        "model.eval()\n",
        "with torch.no_grad():\n",
        "        y_test_pred = model(val_x.cuda())\n",
        "        y_test_pred = torch.sigmoid(y_test_pred)\n",
        "        y_pred_tag = torch.round(y_test_pred)\n",
        "      #  y_pred_list.append(y_pred_tag.cpu().numpy())\n",
        "\n",
        "#y_pred_list = [a.squeeze().tolist() for a in y_pred_list]\n",
        "accuracy_score(val_y,y_pred_tag.cpu())"
      ],
      "execution_count": null,
      "outputs": [
        {
          "output_type": "execute_result",
          "data": {
            "text/plain": [
              "0.5957446808510638"
            ]
          },
          "metadata": {
            "tags": []
          },
          "execution_count": 111
        }
      ]
    }
  ]
}